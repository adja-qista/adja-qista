{
  "nbformat": 4,
  "nbformat_minor": 0,
  "metadata": {
    "colab": {
      "name": "read_count_file_line.ipynb",
      "provenance": [],
      "collapsed_sections": [],
      "mount_file_id": "1FsQMTr5OPWBTyhtkIYW784nU64015gQb",
      "authorship_tag": "ABX9TyPRRVo/jdKSjfyotu+Y3RxF",
      "include_colab_link": true
    },
    "kernelspec": {
      "name": "python3",
      "display_name": "Python 3"
    },
    "language_info": {
      "name": "python"
    }
  },
  "cells": [
    {
      "cell_type": "markdown",
      "metadata": {
        "id": "view-in-github",
        "colab_type": "text"
      },
      "source": [
        "<a href=\"https://colab.research.google.com/github/adja-qista/adja-qista/blob/main/read_count_file_line.ipynb\" target=\"_parent\"><img src=\"https://colab.research.google.com/assets/colab-badge.svg\" alt=\"Open In Colab\"/></a>"
      ]
    },
    {
      "cell_type": "code",
      "source": [
        "# install the module\n",
        "pip install pypdf2"
      ],
      "metadata": {
        "colab": {
          "base_uri": "https://localhost:8080/"
        },
        "id": "mHI4N9yeO-nU",
        "outputId": "d32973d6-dd81-4eed-ad7b-c83ad104305d"
      },
      "execution_count": 1,
      "outputs": [
        {
          "output_type": "stream",
          "name": "stdout",
          "text": [
            "Collecting pypdf2\n",
            "  Downloading PyPDF2-1.27.7-py3-none-any.whl (68 kB)\n",
            "\u001b[?25l\r\u001b[K     |████▊                           | 10 kB 14.5 MB/s eta 0:00:01\r\u001b[K     |█████████▌                      | 20 kB 17.5 MB/s eta 0:00:01\r\u001b[K     |██████████████▎                 | 30 kB 20.3 MB/s eta 0:00:01\r\u001b[K     |███████████████████             | 40 kB 20.2 MB/s eta 0:00:01\r\u001b[K     |███████████████████████▉        | 51 kB 16.4 MB/s eta 0:00:01\r\u001b[K     |████████████████████████████▌   | 61 kB 18.4 MB/s eta 0:00:01\r\u001b[K     |████████████████████████████████| 68 kB 3.0 MB/s \n",
            "\u001b[?25hInstalling collected packages: pypdf2\n",
            "Successfully installed pypdf2-1.27.7\n"
          ]
        }
      ]
    },
    {
      "cell_type": "code",
      "source": [
        "# IMPORT LIBRARIES\n",
        "from PyPDF2 import PdfFileReader\n",
        "from PyPDF2 import PdfFileWriter\n",
        "import pandas as pd "
      ],
      "metadata": {
        "id": "RXglnkONPHY8"
      },
      "execution_count": 2,
      "outputs": []
    },
    {
      "cell_type": "code",
      "source": [
        "# mount the drive\n",
        "from google.colab import drive\n",
        "drive.mount('/content/drive')"
      ],
      "metadata": {
        "colab": {
          "base_uri": "https://localhost:8080/"
        },
        "id": "nOBSIhbERHNJ",
        "outputId": "988ba6b4-31cb-45d3-fce1-9e9d5ab36f03"
      },
      "execution_count": 12,
      "outputs": [
        {
          "output_type": "stream",
          "name": "stdout",
          "text": [
            "Drive already mounted at /content/drive; to attempt to forcibly remount, call drive.mount(\"/content/drive\", force_remount=True).\n"
          ]
        }
      ]
    },
    {
      "cell_type": "code",
      "source": [
        "# change the directory \n",
        "%cd '/content/drive/MyDrive/Colab Notebooks'"
      ],
      "metadata": {
        "colab": {
          "base_uri": "https://localhost:8080/"
        },
        "id": "8yQLYi2bRpJ6",
        "outputId": "e7cae7c2-ac47-4087-9b8b-e948f80bed70"
      },
      "execution_count": 13,
      "outputs": [
        {
          "output_type": "stream",
          "name": "stdout",
          "text": [
            "MyDrive\n",
            "/content/drive/MyDrive/Colab Notebooks\n"
          ]
        }
      ]
    },
    {
      "cell_type": "code",
      "source": [
        "# list of files in the directory\n",
        "!ls"
      ],
      "metadata": {
        "colab": {
          "base_uri": "https://localhost:8080/"
        },
        "id": "qP5W73-sSNpM",
        "outputId": "c643b74d-a841-47d8-a6f6-c4ddf5623689"
      },
      "execution_count": 14,
      "outputs": [
        {
          "output_type": "stream",
          "name": "stdout",
          "text": [
            "Python_ML_Lab_Benjamin.ipynb  test.pdf\tUntitled0.ipynb  Untitled1.ipynb\n"
          ]
        }
      ]
    },
    {
      "cell_type": "code",
      "source": [
        "# function to read and count the number of lines\n",
        "\n",
        "def read_count_file(file):\n",
        "  \"\"\"\n",
        "  This function reads a pdf file and\n",
        "  count the number of lines\n",
        "  \"\"\"\n",
        "  document = PdfFileReader(open(file, 'rb'))\n",
        "  first_page = document.getPage(0)\n",
        "  #print(first_page.extractText())\n",
        "  #results =  PdfFileReader(open(\"test.pdf\", 'rb'))\n",
        "  \n",
        "  print(\"Number of lines present: is\")  \n",
        "  return(len(first_page)) \n",
        "\n"
      ],
      "metadata": {
        "id": "PbRCGu9IVdwm"
      },
      "execution_count": 33,
      "outputs": []
    },
    {
      "cell_type": "code",
      "source": [
        " read_count_file(\"test.pdf\")"
      ],
      "metadata": {
        "colab": {
          "base_uri": "https://localhost:8080/"
        },
        "id": "fBm2n_bNV-lJ",
        "outputId": "77549a29-497b-4d08-ec79-e5b7ab2b735f"
      },
      "execution_count": 34,
      "outputs": [
        {
          "output_type": "stream",
          "name": "stdout",
          "text": [
            "Number of lines present: is\n"
          ]
        },
        {
          "output_type": "execute_result",
          "data": {
            "text/plain": [
              "7"
            ]
          },
          "metadata": {},
          "execution_count": 34
        }
      ]
    },
    {
      "cell_type": "code",
      "source": [
        ""
      ],
      "metadata": {
        "id": "egETKvH3W27Q"
      },
      "execution_count": null,
      "outputs": []
    },
    {
      "cell_type": "code",
      "source": [
        ""
      ],
      "metadata": {
        "id": "X8aCleRhW3A2"
      },
      "execution_count": null,
      "outputs": []
    },
    {
      "cell_type": "code",
      "source": [
        ""
      ],
      "metadata": {
        "id": "aCPBt_3bW3JU"
      },
      "execution_count": null,
      "outputs": []
    },
    {
      "cell_type": "code",
      "source": [
        "document = PdfFileReader(open(\"test.pdf\", 'rb'))\n",
        "document"
      ],
      "metadata": {
        "colab": {
          "base_uri": "https://localhost:8080/"
        },
        "id": "B-7fMU_vPXwC",
        "outputId": "4b5b9950-f78f-41d4-cbda-eb05ef11bf2f"
      },
      "execution_count": 26,
      "outputs": [
        {
          "output_type": "execute_result",
          "data": {
            "text/plain": [
              "<PyPDF2.pdf.PdfFileReader at 0x7f434c2c7ed0>"
            ]
          },
          "metadata": {},
          "execution_count": 26
        }
      ]
    },
    {
      "cell_type": "code",
      "source": [
        "first_page = document.getPage(0)\n",
        "print(first_page.extractText())"
      ],
      "metadata": {
        "colab": {
          "base_uri": "https://localhost:8080/"
        },
        "id": "qWqS-ut-T-Yc",
        "outputId": "d305d65a-fb21-41f5-c2cc-f89f15d2d76e"
      },
      "execution_count": 27,
      "outputs": [
        {
          "output_type": "stream",
          "name": "stdout",
          "text": [
            "\n"
          ]
        }
      ]
    },
    {
      "cell_type": "code",
      "source": [
        "#rowcount  = 0\n",
        "#for row in open(\"test.pdf\"): \n",
        " # rowcount+= 1\n",
        " \n",
        "#print(\"Number of lines present:-\", rowcount)"
      ],
      "metadata": {
        "id": "h4mxQK5fOvyH"
      },
      "execution_count": 21,
      "outputs": []
    },
    {
      "cell_type": "code",
      "execution_count": 28,
      "metadata": {
        "id": "8Nn8wQ-lNRxg"
      },
      "outputs": [],
      "source": [
        "def read_count_file(page):\n",
        "  \"\"\"\n",
        "  \"\"\"\n",
        "  #results =  PdfFileReader(open(\"test.pdf\", 'rb'))\n",
        "  \n",
        "  print(\"Number of lines present:-\",  \n",
        "      len(page)) \n"
      ]
    },
    {
      "cell_type": "code",
      "source": [
        "read_count_file(first_page)"
      ],
      "metadata": {
        "colab": {
          "base_uri": "https://localhost:8080/"
        },
        "id": "nvKTifMmSqTp",
        "outputId": "d1a8c292-fbe8-426e-8219-05495f941381"
      },
      "execution_count": 30,
      "outputs": [
        {
          "output_type": "stream",
          "name": "stdout",
          "text": [
            "Number of lines present:- 7\n"
          ]
        }
      ]
    },
    {
      "cell_type": "code",
      "source": [
        ""
      ],
      "metadata": {
        "id": "OFaFPcooStyP"
      },
      "execution_count": null,
      "outputs": []
    }
  ]
}